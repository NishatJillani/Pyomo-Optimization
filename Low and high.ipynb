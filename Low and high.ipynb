{
 "cells": [
  {
   "cell_type": "markdown",
   "metadata": {},
   "source": [
    "max :\n",
    "\n",
    "z = x1 + 10x2\n",
    "\n",
    "subject :\n",
    "\n",
    "0.2x1 + 4 >= x2\n",
    "\n",
    "-0.2x1 + 6 >= x1\n",
    "\n",
    "10x1 + 1 >= x2"
   ]
  },
  {
   "cell_type": "code",
   "execution_count": 17,
   "metadata": {},
   "outputs": [
    {
     "name": "stdout",
     "output_type": "stream",
     "text": [
      "Model unknown\n",
      "\n",
      "  Variables:\n",
      "    x : Size=1, Index=None\n",
      "        Key  : Lower : Value : Upper : Fixed : Stale : Domain\n",
      "        None :     0 :   5.0 :  None : False : False : NonNegativeReals\n",
      "    y : Size=1, Index=None\n",
      "        Key  : Lower : Value : Upper : Fixed : Stale : Domain\n",
      "        None :     0 :   5.0 :  None : False : False : NonNegativeReals\n",
      "\n",
      "  Objectives:\n",
      "    maximizeZ : Size=1, Index=None, Active=True\n",
      "        Key  : Active : Value\n",
      "        None :   True :  55.0\n",
      "\n",
      "  Constraints:\n",
      "    Contraint1 : Size=1\n",
      "        Key  : Lower : Body : Upper\n",
      "        None :  None :  0.0 :   0.0\n",
      "    Contraint2 : Size=1\n",
      "        Key  : Lower : Body : Upper\n",
      "        None :  None :  0.0 :   0.0\n",
      "    Constraint3 : Size=1\n",
      "        Key  : Lower : Body  : Upper\n",
      "        None :  None : -46.0 :   0.0\n"
     ]
    }
   ],
   "source": [
    "from pyomo.environ import *\n",
    "import pyomo.opt as po\n",
    "\n",
    "model = ConcreteModel()\n",
    "\n",
    "model.x = Var(within=NonNegativeReals)\n",
    "model.y = Var(within=NonNegativeReals)\n",
    "\n",
    "model.maximizeZ = Objective(expr=model.x + 10*model.y , sense = maximize)\n",
    "\n",
    "model.Contraint1 = Constraint(expr = 0.2*model.x + 4 >= model.y)\n",
    "\n",
    "model.Contraint2 = Constraint(expr = (-0.2)*model.x + 6 >= model.x)\n",
    "\n",
    "model.Constraint3 = Constraint(expr = 10*model.x + 1 >= model.y)\n",
    "\n",
    "solver = po.SolverFactory(\"glpk\")\n",
    "\n",
    "solver.solve(model)\n",
    "\n",
    "model.display()\n"
   ]
  }
 ],
 "metadata": {
  "kernelspec": {
   "display_name": "Python 3",
   "language": "python",
   "name": "python3"
  },
  "language_info": {
   "codemirror_mode": {
    "name": "ipython",
    "version": 3
   },
   "file_extension": ".py",
   "mimetype": "text/x-python",
   "name": "python",
   "nbconvert_exporter": "python",
   "pygments_lexer": "ipython3",
   "version": "3.11.4"
  }
 },
 "nbformat": 4,
 "nbformat_minor": 2
}
